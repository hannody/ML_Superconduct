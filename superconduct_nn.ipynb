{
 "cells": [
  {
   "cell_type": "code",
   "execution_count": 1,
   "metadata": {},
   "outputs": [
    {
     "name": "stderr",
     "output_type": "stream",
     "text": [
      "Using TensorFlow backend.\n"
     ]
    },
    {
     "name": "stdout",
     "output_type": "stream",
     "text": [
      "started at: 2019-03-25 07:36:56.054614\n"
     ]
    }
   ],
   "source": [
    "from keras import layers\n",
    "from keras import models\n",
    "from sklearn.preprocessing import RobustScaler, StandardScaler\n",
    "from sklearn.model_selection import train_test_split\n",
    "import pandas as pd\n",
    "import sys\n",
    "import numpy as np\n",
    "import datetime\n",
    "\n",
    "\n"
   ]
  },
  {
   "cell_type": "code",
   "execution_count": 2,
   "metadata": {},
   "outputs": [
    {
     "name": "stdout",
     "output_type": "stream",
     "text": [
      "(21263, 82)\n",
      "(21263, 1)\n",
      "<class 'numpy.ndarray'>\n",
      "(21263, 81) <class 'numpy.ndarray'>\n",
      "(18073, 1)\n",
      "(3190, 1)\n",
      "<class 'numpy.ndarray'> (18073, 81)\n",
      "<class 'numpy.ndarray'> (3190, 81)\n"
     ]
    }
   ],
   "source": [
    "\n",
    "if sys.platform == 'darwin':\n",
    "    train_path = \"/Users/mqa/Desktop/Dev/ML/introduction_to_ml_with_python/Data sets/superconduct/train.csv\"\n",
    "else:\n",
    "    train_path = \"/home/axis/Desktop/ml_work/Data sets/superconduct/train.csv\"\n",
    "\n",
    "dataset = pd.read_csv(train_path, sep=\" \", delimiter=',')\n",
    "\n",
    "print(dataset.shape)\n",
    "\n",
    "\n",
    "Y = dataset.pop('critical_temp').values\n",
    "\n",
    "Y = np.reshape(Y, (Y.shape[0], 1))\n",
    "print(Y.shape)\n",
    "\n",
    "print(type(Y))\n",
    "\n",
    "X = dataset.values\n",
    "\n",
    "print(X.shape, type(X))\n",
    "\n",
    "\n",
    "train_data, test_data, train_targets, test_targets = train_test_split(\n",
    "    X, Y, random_state=42, test_size=0.15)\n",
    "\n",
    "\n",
    "print(train_targets.shape)\n",
    "print(test_targets.shape)\n",
    "\n",
    "\n",
    "print(type(train_data), train_data.shape)\n",
    "print(type(test_data), test_data.shape)\n"
   ]
  },
  {
   "cell_type": "code",
   "execution_count": 72,
   "metadata": {},
   "outputs": [],
   "source": [
    "\n",
    "\n",
    "#rb_scaler = RobustScaler()\n",
    "\n",
    "#train_data = rb_scaler.fit_transform(train_data)\n",
    "#test_data = rb_scaler.transform(test_data)\n",
    "\n",
    "\n",
    "mean = train_data.mean(axis=0)\n",
    "train_data -= mean\n",
    "std = train_data.std(axis=0)\n",
    "train_data /= std\n",
    "\n",
    "test_data -= mean\n",
    "test_data /= std"
   ]
  },
  {
   "cell_type": "code",
   "execution_count": 73,
   "metadata": {},
   "outputs": [],
   "source": [
    "def build_model():\n",
    "    model = models.Sequential()\n",
    "    model.add(layers.Dense(256, activation='relu',\n",
    "                           input_shape=(train_data.shape[1],)))\n",
    "    #model.add(layers.Dense(512, activation='relu'))\n",
    "    model.add(layers.Dense(128, activation='relu'))\n",
    "    model.add(layers.Dense(1))\n",
    "    model.compile(optimizer='adam', loss='mse', metrics=['mae'])\n",
    "    return model\n",
    "\n"
   ]
  },
  {
   "cell_type": "code",
   "execution_count": 74,
   "metadata": {},
   "outputs": [],
   "source": [
    "\n",
    "started = datetime.datetime.now()\n",
    "model = build_model()\n"
   ]
  },
  {
   "cell_type": "code",
   "execution_count": 75,
   "metadata": {},
   "outputs": [
    {
     "name": "stdout",
     "output_type": "stream",
     "text": [
      "_________________________________________________________________\n",
      "Layer (type)                 Output Shape              Param #   \n",
      "=================================================================\n",
      "dense_39 (Dense)             (None, 256)               20992     \n",
      "_________________________________________________________________\n",
      "dense_40 (Dense)             (None, 128)               32896     \n",
      "_________________________________________________________________\n",
      "dense_41 (Dense)             (None, 1)                 129       \n",
      "=================================================================\n",
      "Total params: 54,017\n",
      "Trainable params: 54,017\n",
      "Non-trainable params: 0\n",
      "_________________________________________________________________\n",
      "None\n"
     ]
    }
   ],
   "source": [
    "print(model.summary())"
   ]
  },
  {
   "cell_type": "code",
   "execution_count": 76,
   "metadata": {},
   "outputs": [
    {
     "name": "stdout",
     "output_type": "stream",
     "text": [
      "3190/3190 [==============================] - 0s 61us/step\n"
     ]
    }
   ],
   "source": [
    "model.fit(train_data, train_targets,\n",
    "          epochs=256, batch_size=16, verbose=0)\n",
    "test_mse_score, test_mae_score = model.evaluate(test_data, test_targets)\n",
    "\n"
   ]
  },
  {
   "cell_type": "code",
   "execution_count": 77,
   "metadata": {},
   "outputs": [
    {
     "name": "stdout",
     "output_type": "stream",
     "text": [
      "5.71030668778853\n",
      "90.34381385731473\n"
     ]
    }
   ],
   "source": [
    "print(test_mae_score)\n",
    "print(test_mse_score)\n"
   ]
  },
  {
   "cell_type": "code",
   "execution_count": 78,
   "metadata": {},
   "outputs": [
    {
     "name": "stdout",
     "output_type": "stream",
     "text": [
      "started at: 2019-03-25 12:46:48.708055\n",
      "DONE Finished On: 2019-03-25 12:57:15.677070\n"
     ]
    }
   ],
   "source": [
    "print(\"started at:\", started)\n",
    "print(\"DONE\", \"Finished On:\", datetime.datetime.now())\n"
   ]
  },
  {
   "cell_type": "code",
   "execution_count": null,
   "metadata": {},
   "outputs": [],
   "source": []
  }
 ],
 "metadata": {
  "kernelspec": {
   "display_name": "Python 3",
   "language": "python",
   "name": "python3"
  },
  "language_info": {
   "codemirror_mode": {
    "name": "ipython",
    "version": 3
   },
   "file_extension": ".py",
   "mimetype": "text/x-python",
   "name": "python",
   "nbconvert_exporter": "python",
   "pygments_lexer": "ipython3",
   "version": "3.7.1"
  }
 },
 "nbformat": 4,
 "nbformat_minor": 2
}
